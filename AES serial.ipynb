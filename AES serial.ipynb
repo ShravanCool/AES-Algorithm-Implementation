{
 "cells": [
  {
   "cell_type": "code",
   "execution_count": 1,
   "metadata": {},
   "outputs": [
    {
     "name": "stdout",
     "output_type": "stream",
     "text": [
      "[['48', '41', '52', '49'], ['53', '48', '42', '48'], ['41', '52', '41', '44'], ['57', '41', '4a', '31']]\n"
     ]
    }
   ],
   "source": [
    "key='HARISHBHARADWAJ1'\n",
    "t=[]\n",
    "for i in range(0,len(key),4):\n",
    "    l=[]\n",
    "    for j in range(4):\n",
    "        l.append(hex(ord(key[i+j]))[2:])\n",
    "    t.append(l)\n",
    "print(t)"
   ]
  },
  {
   "cell_type": "code",
   "execution_count": 2,
   "metadata": {},
   "outputs": [],
   "source": [
    "def generateKeys(t,rcon,temp):\n",
    "    o=[]\n",
    "    p=[]\n",
    "    for i in range(4):\n",
    "        for j in range(4):\n",
    "            if i==0 and j==0:\n",
    "                p.append(hex(int(t[i][j],16)^int(rcon,16)^int(temp[j],16)).lstrip('0x')[-2:])\n",
    "                if p[-1]=='':\n",
    "                    p[-1]='00'\n",
    "            else:\n",
    "                p.append(hex(int(t[i][j],16)^int(temp[j],16)).lstrip('0x')[-2:])\n",
    "                if p[-1]=='':\n",
    "                    p[-1]='00'\n",
    "        o.append(p)\n",
    "        temp=p\n",
    "        p=[]\n",
    "    return o"
   ]
  },
  {
   "cell_type": "code",
   "execution_count": 3,
   "metadata": {},
   "outputs": [
    {
     "name": "stdout",
     "output_type": "stream",
     "text": [
      "['41', '4a', '31', '57']\n"
     ]
    }
   ],
   "source": [
    "temp1=t[-1][1:]+[t[-1][0]]\n",
    "print(temp1)"
   ]
  },
  {
   "cell_type": "code",
   "execution_count": 4,
   "metadata": {},
   "outputs": [
    {
     "name": "stdout",
     "output_type": "stream",
     "text": [
      "     0   1   2   3   4   5   6   7   8   9  10  11  12  13  14  15\n",
      "0   63  7c  77  7b  f2  6b  6f  c5  30   1  67  2b  fe  d7  ab  76\n",
      "1   ca  82  c9  7d  fa  59  47  f0  ad  d4  a2  af  9c  a4  72  c0\n",
      "2   b7  fd  93  26  36  3f  f7  cc  34  a5  e5  f1  71  d8  31  15\n",
      "3    4  c7  23  c3  18  96   5  9a   7  12  80  e2  eb  27  b2  75\n",
      "4    9  83  2c  1a  1b  6e  5a  a0  52  3b  d6  b3  29  e3  2f  84\n",
      "5   53  d1   0  ed  20  fc  b1  5b  6a  cb  be  39  4a  4c  58  cf\n",
      "6   d0  ef  aa  fb  43  4d  33  85  45  f9   2  7f  50  3c  9f  a8\n",
      "7   51  a3  40  8f  92  9d  38  f5  bc  b6  da  21  10  ff  f3  d2\n",
      "8   cd  0c  13  ec  5f  97  44  17  c4  a7  7e  3d  64  5d  19  73\n",
      "9   60  81  4f  dc  22  2a  90  88  46  ee  b8  14  de  5e  0b  db\n",
      "10  e0  32  3a  0a  49   6  24  5c  c2  d3  ac  62  91  95  e4  79\n",
      "11  e7  c8  37  6d  8d  d5  4e  a9  6c  56  f4  ea  65  7a  ae   8\n",
      "12  ba  78  25  2e  1c  a6  b4  c6  e8  dd  74  1f  4b  bd  8b  8a\n",
      "13  70  3e  b5  66  48   3  f6  0e  61  35  57  b9  86  c1  1d  9e\n",
      "14  e1  f8  98  11  69  d9  8e  94  9b  1e  87  e9  ce  55  28  df\n",
      "15  8c  a1  89  0d  bf  e6  42  68  41  99  2d  0f  b0  54  bb  16\n"
     ]
    }
   ],
   "source": [
    "import pandas as pd\n",
    "df=pd.read_csv(\"subbyte.csv\")\n",
    "print(df)"
   ]
  },
  {
   "cell_type": "code",
   "execution_count": 5,
   "metadata": {},
   "outputs": [],
   "source": [
    "d={}\n",
    "st='0123456789abcdef'\n",
    "for i in range(len(st)):\n",
    "    d[st[i]]=i"
   ]
  },
  {
   "cell_type": "code",
   "execution_count": 6,
   "metadata": {},
   "outputs": [],
   "source": [
    "temp=[]\n",
    "for i in temp1:\n",
    "    temp.append(df.iloc[d[i[0]]][d[i[1]]])"
   ]
  },
  {
   "cell_type": "code",
   "execution_count": 7,
   "metadata": {},
   "outputs": [],
   "source": [
    "rcon=['1','2','4','8','10','20','40','80','1b','36',]"
   ]
  },
  {
   "cell_type": "code",
   "execution_count": 8,
   "metadata": {},
   "outputs": [
    {
     "name": "stdout",
     "output_type": "stream",
     "text": [
      "['4b', '86', '15', '73']\n",
      "[['ca', '97', '95', '12'], ['99', 'df', 'd7', '5a'], ['d8', '8d', '96', '1e'], ['8f', 'cc', 'dc', '2f']]\n",
      "['73', 'a4', '67', 'e3']\n",
      "[['83', '11', '80', '61'], ['1a', 'ce', '57', '3b'], ['c2', '43', 'c1', '25'], ['4d', '8f', '1d', 'a']]\n",
      "['a9', '50', '90', 'ef']\n",
      "[['f4', 'b5', 'e7', '82'], ['ee', '7b', 'b0', 'b9'], ['2c', '38', '71', '9c'], ['61', 'b7', '6c', '96']]\n",
      "['82', '57', '1d', '42']\n",
      "[['55', 'e5', '77', '6d'], ['bb', '9e', 'c7', 'd4'], ['97', 'a6', 'b6', '48'], ['f6', '11', 'da', 'de']]\n",
      "['14', '78', '3c', 'a4']\n",
      "[['c7', 'b2', '6a', '2f'], ['7c', '2c', 'ad', 'fb'], ['eb', '8a', '1b', 'b3'], ['1d', '9b', 'c1', '6d']]\n",
      "['68', 'fd', 'e4', 'b6']\n",
      "[['f3', 'ca', '56', '8b'], ['8f', 'e6', 'fb', '70'], ['64', '6c', 'e0', 'c3'], ['79', 'f7', '21', 'ae']]\n",
      "['d6', 'c4', 'b7', '3b']\n",
      "[['db', '37', 'b2', '3d'], ['54', 'd1', '49', '4d'], ['30', 'bd', 'a9', '8e'], ['49', '4a', '88', '20']]\n",
      "['3', '3c', 'd9', 'e0']\n",
      "[['8d', 'f3', '5', '6'], ['d9', '22', '4c', '4b'], ['e9', '9f', 'e5', 'c5'], ['a0', 'd5', '6d', 'e5']]\n",
      "['5c', 'ad', '5d', '6b']\n",
      "[['95', 'cf', 'dc', 'e6'], ['4c', 'ed', '90', 'ad'], ['a5', '72', '75', '68'], ['5', 'a7', '18', '8d']]\n",
      "['be', '10', 'a6', '7d']\n",
      "[['ff', '62', '81', '8d'], ['b3', '8f', '11', '20'], ['16', 'fd', '64', '48'], ['13', '5a', '7c', 'c5']]\n"
     ]
    }
   ],
   "source": [
    "keys=[]\n",
    "keys.append(t)\n",
    "for i in range(10):\n",
    "#     print(rcon[i])\n",
    "    t=generateKeys(t,rcon[i],temp)\n",
    "    keys.append(t)\n",
    "#     print(t)\n",
    "    temp1=t[-1][1:]+[t[-1][0]]\n",
    "    temp=[]\n",
    "    for j in temp1:\n",
    "#         print(j)\n",
    "        if len(j)==1:\n",
    "            temp.append(df.iloc[0][d[j[0]]])\n",
    "        else:\n",
    "            temp.append(df.iloc[d[j[0]]][d[j[1]]])\n",
    "    print(temp)\n",
    "    print(t)"
   ]
  },
  {
   "cell_type": "code",
   "execution_count": 9,
   "metadata": {},
   "outputs": [
    {
     "data": {
      "text/plain": [
       "['be', '10', 'a6', '7d']"
      ]
     },
     "execution_count": 9,
     "metadata": {},
     "output_type": "execute_result"
    }
   ],
   "source": [
    "temp"
   ]
  },
  {
   "cell_type": "code",
   "execution_count": 10,
   "metadata": {},
   "outputs": [
    {
     "data": {
      "text/plain": [
       "[[['48', '41', '52', '49'],\n",
       "  ['53', '48', '42', '48'],\n",
       "  ['41', '52', '41', '44'],\n",
       "  ['57', '41', '4a', '31']],\n",
       " [['ca', '97', '95', '12'],\n",
       "  ['99', 'df', 'd7', '5a'],\n",
       "  ['d8', '8d', '96', '1e'],\n",
       "  ['8f', 'cc', 'dc', '2f']],\n",
       " [['83', '11', '80', '61'],\n",
       "  ['1a', 'ce', '57', '3b'],\n",
       "  ['c2', '43', 'c1', '25'],\n",
       "  ['4d', '8f', '1d', 'a']],\n",
       " [['f4', 'b5', 'e7', '82'],\n",
       "  ['ee', '7b', 'b0', 'b9'],\n",
       "  ['2c', '38', '71', '9c'],\n",
       "  ['61', 'b7', '6c', '96']],\n",
       " [['55', 'e5', '77', '6d'],\n",
       "  ['bb', '9e', 'c7', 'd4'],\n",
       "  ['97', 'a6', 'b6', '48'],\n",
       "  ['f6', '11', 'da', 'de']],\n",
       " [['c7', 'b2', '6a', '2f'],\n",
       "  ['7c', '2c', 'ad', 'fb'],\n",
       "  ['eb', '8a', '1b', 'b3'],\n",
       "  ['1d', '9b', 'c1', '6d']],\n",
       " [['f3', 'ca', '56', '8b'],\n",
       "  ['8f', 'e6', 'fb', '70'],\n",
       "  ['64', '6c', 'e0', 'c3'],\n",
       "  ['79', 'f7', '21', 'ae']],\n",
       " [['db', '37', 'b2', '3d'],\n",
       "  ['54', 'd1', '49', '4d'],\n",
       "  ['30', 'bd', 'a9', '8e'],\n",
       "  ['49', '4a', '88', '20']],\n",
       " [['8d', 'f3', '5', '6'],\n",
       "  ['d9', '22', '4c', '4b'],\n",
       "  ['e9', '9f', 'e5', 'c5'],\n",
       "  ['a0', 'd5', '6d', 'e5']],\n",
       " [['95', 'cf', 'dc', 'e6'],\n",
       "  ['4c', 'ed', '90', 'ad'],\n",
       "  ['a5', '72', '75', '68'],\n",
       "  ['5', 'a7', '18', '8d']],\n",
       " [['ff', '62', '81', '8d'],\n",
       "  ['b3', '8f', '11', '20'],\n",
       "  ['16', 'fd', '64', '48'],\n",
       "  ['13', '5a', '7c', 'c5']]]"
      ]
     },
     "execution_count": 10,
     "metadata": {},
     "output_type": "execute_result"
    }
   ],
   "source": [
    "keys"
   ]
  },
  {
   "cell_type": "code",
   "execution_count": 11,
   "metadata": {},
   "outputs": [
    {
     "data": {
      "text/plain": [
       "[[['48', '53', '41', '57'],\n",
       "  ['41', '48', '52', '41'],\n",
       "  ['52', '42', '41', '4a'],\n",
       "  ['49', '48', '44', '31']],\n",
       " [['ca', '99', 'd8', '8f'],\n",
       "  ['97', 'df', '8d', 'cc'],\n",
       "  ['95', 'd7', '96', 'dc'],\n",
       "  ['12', '5a', '1e', '2f']],\n",
       " [['83', '1a', 'c2', '4d'],\n",
       "  ['11', 'ce', '43', '8f'],\n",
       "  ['80', '57', 'c1', '1d'],\n",
       "  ['61', '3b', '25', 'a']],\n",
       " [['f4', 'ee', '2c', '61'],\n",
       "  ['b5', '7b', '38', 'b7'],\n",
       "  ['e7', 'b0', '71', '6c'],\n",
       "  ['82', 'b9', '9c', '96']],\n",
       " [['55', 'bb', '97', 'f6'],\n",
       "  ['e5', '9e', 'a6', '11'],\n",
       "  ['77', 'c7', 'b6', 'da'],\n",
       "  ['6d', 'd4', '48', 'de']],\n",
       " [['c7', '7c', 'eb', '1d'],\n",
       "  ['b2', '2c', '8a', '9b'],\n",
       "  ['6a', 'ad', '1b', 'c1'],\n",
       "  ['2f', 'fb', 'b3', '6d']],\n",
       " [['f3', '8f', '64', '79'],\n",
       "  ['ca', 'e6', '6c', 'f7'],\n",
       "  ['56', 'fb', 'e0', '21'],\n",
       "  ['8b', '70', 'c3', 'ae']],\n",
       " [['db', '54', '30', '49'],\n",
       "  ['37', 'd1', 'bd', '4a'],\n",
       "  ['b2', '49', 'a9', '88'],\n",
       "  ['3d', '4d', '8e', '20']],\n",
       " [['8d', 'd9', 'e9', 'a0'],\n",
       "  ['f3', '22', '9f', 'd5'],\n",
       "  ['5', '4c', 'e5', '6d'],\n",
       "  ['6', '4b', 'c5', 'e5']],\n",
       " [['95', '4c', 'a5', '5'],\n",
       "  ['cf', 'ed', '72', 'a7'],\n",
       "  ['dc', '90', '75', '18'],\n",
       "  ['e6', 'ad', '68', '8d']],\n",
       " [['ff', 'b3', '16', '13'],\n",
       "  ['62', '8f', 'fd', '5a'],\n",
       "  ['81', '11', '64', '7c'],\n",
       "  ['8d', '20', '48', 'c5']]]"
      ]
     },
     "execution_count": 11,
     "metadata": {},
     "output_type": "execute_result"
    }
   ],
   "source": [
    "for l in range(len(keys)):\n",
    "    key=keys[l]\n",
    "    keys[l] = [[key[j][i] for j in range(len(key))] for i in range(len(key[0]))] \n",
    "keys"
   ]
  },
  {
   "cell_type": "code",
   "execution_count": 12,
   "metadata": {},
   "outputs": [],
   "source": [
    "def add_rnd_key(rnd,res):\n",
    "    t=[]\n",
    "    for i in range(4):\n",
    "        l=[]\n",
    "        for j in range(4):\n",
    "            l.append(hex(int(keys[rnd][i][j],16)^int(res[i][j],16))[2:])\n",
    "        t.append(l)\n",
    "    return t"
   ]
  },
  {
   "cell_type": "code",
   "execution_count": 14,
   "metadata": {},
   "outputs": [],
   "source": [
    "def sub_byte(res):\n",
    "    for i in range(4):\n",
    "        for j in range(4):\n",
    "            if len(res[i][j])==1:\n",
    "                res[i][j]=df.iloc[0][d[res[i][j][0]]]\n",
    "            else:\n",
    "                res[i][j]=df.iloc[d[res[i][j][0]]][d[res[i][j][1]]]\n",
    "    return res"
   ]
  },
  {
   "cell_type": "code",
   "execution_count": 16,
   "metadata": {},
   "outputs": [],
   "source": [
    "def shift_rows(res):\n",
    "    for i in range(4):\n",
    "        res[i]=res[i][i:]+res[i][:i]\n",
    "    return res"
   ]
  },
  {
   "cell_type": "code",
   "execution_count": 18,
   "metadata": {},
   "outputs": [],
   "source": [
    "def galoisMult(a, b):\n",
    "    p = 0\n",
    "    hiBitSet = 0\n",
    "    for i in range(8):\n",
    "        if b & 1 == 1:\n",
    "            p ^= a\n",
    "        hiBitSet = a & 0x80\n",
    "        a <<= 1\n",
    "        if hiBitSet == 0x80:\n",
    "            a ^= 0x1b\n",
    "        b >>= 1\n",
    "    return p % 128"
   ]
  },
  {
   "cell_type": "code",
   "execution_count": 19,
   "metadata": {},
   "outputs": [],
   "source": [
    "pre_mat=[['2','3','1','1'],['1','2','3','1'],['1','1','2','3'],['3','1','1','2']]\n",
    "def mix_col(res):\n",
    "    res = [[res[j][i] for j in range(len(res))] for i in range(len(res[0]))]\n",
    "    t=[]\n",
    "    for l1 in pre_mat:\n",
    "        l=[]\n",
    "        for l2 in res:\n",
    "            s=0\n",
    "            for i in range(4):\n",
    "                s^=galoisMult(int(l1[i],16),int(l2[i],16))\n",
    "            l.append(hex(s)[2:])\n",
    "        t.append(l)\n",
    "    return t"
   ]
  },
  {
   "cell_type": "code",
   "execution_count": 21,
   "metadata": {},
   "outputs": [
    {
     "name": "stdout",
     "output_type": "stream",
     "text": [
      "hi this msg is encrypted good luck with this bye\n",
      "[]\n",
      "[['68', '69', '20', '74'], ['68', '69', '73', '20'], ['6d', '73', '67', '20'], ['69', '73', '20', '65']]\n",
      "[['6e', '63', '72', '79'], ['70', '74', '65', '64'], ['20', '67', '6f', '6f'], ['64', '20', '6c', '75']]\n",
      "[['63', '6b', '20', '77'], ['69', '74', '68', '20'], ['74', '68', '69', '73'], ['20', '62', '79', '65']]\n"
     ]
    },
    {
     "data": {
      "text/plain": [
       "[[['68', '68', '6d', '69'],\n",
       "  ['69', '69', '73', '73'],\n",
       "  ['20', '73', '67', '20'],\n",
       "  ['74', '20', '20', '65']],\n",
       " [['6e', '70', '20', '64'],\n",
       "  ['63', '74', '67', '20'],\n",
       "  ['72', '65', '6f', '6c'],\n",
       "  ['79', '64', '6f', '75']],\n",
       " [['63', '69', '74', '20'],\n",
       "  ['6b', '74', '68', '62'],\n",
       "  ['20', '68', '69', '79'],\n",
       "  ['77', '20', '73', '65']]]"
      ]
     },
     "execution_count": 21,
     "metadata": {},
     "output_type": "execute_result"
    }
   ],
   "source": [
    "msg=input()\n",
    "msgar=[]\n",
    "ms=[]\n",
    "for i in range(0,len(msg),4):\n",
    "    l=[]\n",
    "    for j in range(4):\n",
    "        if i+j<len(msg):\n",
    "            l.append(hex(ord(msg[i+j]))[2:])\n",
    "    ms.append(l)\n",
    "    if len(ms)==4:\n",
    "        if len(ms[-1])!=4:\n",
    "            ms[-1]+=['0']*(4-len(ms[-1]))\n",
    "        msgar.append(ms)\n",
    "        ms=[]\n",
    "print(ms)\n",
    "for i in msgar:\n",
    "    print(i)\n",
    "for l in range(len(msgar)):\n",
    "    key=msgar[l]\n",
    "#     print(key)\n",
    "    msgar[l] = [[key[j][i] for j in range(len(key))] for i in range(len(key[0]))] \n",
    "msgar"
   ]
  },
  {
   "cell_type": "code",
   "execution_count": 22,
   "metadata": {},
   "outputs": [
    {
     "name": "stdout",
     "output_type": "stream",
     "text": [
      "[[['b', 'e2', 'b8', '28'], ['46', 'b4', '75', 'bc'], ['46', 'cb', 'e2', 'd2'], ['c3', 'd4', '3', 'a']], [['b9', '63', '1b', 'b9'], ['ee', 'be', 'b9', 'c3'], ['fe', 'ad', 'a9', 'c5'], ['94', 'a9', '59', '88']], [['64', '40', '43', '7d'], ['40', 'b0', '35', 'cf'], ['99', '56', '9c', 'be'], ['43', 'ee', '56', '61']]]\n",
      "Elapsed (after compilation) = 0.04787302017211914\n"
     ]
    }
   ],
   "source": [
    "import time\n",
    "rest=[]\n",
    "start = time.time()\n",
    "for mat in range(len(msgar)):\n",
    "    res=msgar[mat]\n",
    "    for rnd in range(11):\n",
    "        if rnd==0:\n",
    "            res=add_rnd_key(rnd,res)\n",
    "        elif rnd<10:\n",
    "            res=add_rnd_key(rnd,mix_col(shift_rows(sub_byte(res))))\n",
    "        else:\n",
    "            res=add_rnd_key(rnd,shift_rows(sub_byte(res)))\n",
    "    rest.append(res)\n",
    "print(rest)\n",
    "end = time.time()\n",
    "print(\"Elapsed (after compilation) = %s\" % (end - start))"
   ]
  },
  {
   "cell_type": "code",
   "execution_count": 23,
   "metadata": {},
   "outputs": [
    {
     "name": "stdout",
     "output_type": "stream",
     "text": [
      "[['b', 'e2', 'b8', '28'], ['46', 'b4', '75', 'bc'], ['46', 'cb', 'e2', 'd2'], ['c3', 'd4', '3', 'a']]\n",
      "[['b9', '63', '1b', 'b9'], ['ee', 'be', 'b9', 'c3'], ['fe', 'ad', 'a9', 'c5'], ['94', 'a9', '59', '88']]\n",
      "[['64', '40', '43', '7d'], ['40', 'b0', '35', 'cf'], ['99', '56', '9c', 'be'], ['43', 'ee', '56', '61']]\n"
     ]
    }
   ],
   "source": [
    "for enc_msg in rest:\n",
    "    print(enc_msg)"
   ]
  },
  {
   "cell_type": "code",
   "execution_count": null,
   "metadata": {},
   "outputs": [],
   "source": []
  }
 ],
 "metadata": {
  "kernelspec": {
   "display_name": "Python 3",
   "language": "python",
   "name": "python3"
  },
  "language_info": {
   "codemirror_mode": {
    "name": "ipython",
    "version": 3
   },
   "file_extension": ".py",
   "mimetype": "text/x-python",
   "name": "python",
   "nbconvert_exporter": "python",
   "pygments_lexer": "ipython3",
   "version": "3.7.6"
  }
 },
 "nbformat": 4,
 "nbformat_minor": 4
}
